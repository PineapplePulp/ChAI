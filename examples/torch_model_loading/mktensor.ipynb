{
 "cells": [
  {
   "cell_type": "code",
   "execution_count": 1,
   "id": "873dd3b8",
   "metadata": {},
   "outputs": [],
   "source": [
    "import torch"
   ]
  },
  {
   "cell_type": "code",
   "execution_count": 2,
   "id": "a07c23ff",
   "metadata": {},
   "outputs": [],
   "source": [
    "def find_factors(num):\n",
    "    \"\"\"\n",
    "    Finds all factors of a given number.\n",
    "\n",
    "    Args:\n",
    "        num: An integer.\n",
    "\n",
    "    Returns:\n",
    "        A list of integers representing the factors of num.\n",
    "    \"\"\"\n",
    "    factors = []\n",
    "    for i in range(1, num + 1):\n",
    "        if num % i == 0:\n",
    "            factors.append(i)\n",
    "    return factors"
   ]
  },
  {
   "cell_type": "code",
   "execution_count": 3,
   "id": "131adc46",
   "metadata": {},
   "outputs": [
    {
     "name": "stdout",
     "output_type": "stream",
     "text": [
      "f1: 10000, f2: 5\n"
     ]
    }
   ],
   "source": [
    "num_elt = 50000\n",
    "f1 = find_factors(num_elt)[-4]\n",
    "f2 = num_elt // f1\n",
    "print(f\"f1: {f1}, f2: {f2}\")"
   ]
  },
  {
   "cell_type": "code",
   "execution_count": 11,
   "id": "d4aed442",
   "metadata": {},
   "outputs": [],
   "source": [
    "x = torch.arange(0,(500 ** 2)*3)\n",
    "x = x.reshape(3,500,500).to(torch.float32)"
   ]
  },
  {
   "cell_type": "code",
   "execution_count": 12,
   "id": "c45c09fc",
   "metadata": {},
   "outputs": [
    {
     "data": {
      "text/plain": [
       "torch.Size([3, 500, 500])"
      ]
     },
     "execution_count": 12,
     "metadata": {},
     "output_type": "execute_result"
    }
   ],
   "source": [
    "x.shape"
   ]
  },
  {
   "cell_type": "code",
   "execution_count": 13,
   "id": "481d4709",
   "metadata": {},
   "outputs": [],
   "source": [
    "torch.save(x, 'models/input.pt')"
   ]
  },
  {
   "cell_type": "code",
   "execution_count": 9,
   "id": "841d4dfe",
   "metadata": {},
   "outputs": [],
   "source": [
    "class MyModule(torch.nn.Module):\n",
    "    def __init__(self):\n",
    "        super(MyModule, self).__init__()\n",
    "        self.conv1 = torch.nn.Conv2d(in_channels=3,\n",
    "                                     out_channels=16,\n",
    "                                     kernel_size=3,\n",
    "                                     stride=2)\n",
    "        self.conv2 = torch.nn.Conv2d(in_channels=16,\n",
    "                                     out_channels=32,\n",
    "                                     kernel_size=3,\n",
    "                                     stride=2)\n",
    "\n",
    "    def forward(self, x):\n",
    "        return self.linear(x)"
   ]
  },
  {
   "cell_type": "code",
   "execution_count": 10,
   "id": "ca34dafc",
   "metadata": {},
   "outputs": [
    {
     "data": {
      "text/plain": [
       "True"
      ]
     },
     "execution_count": 10,
     "metadata": {},
     "output_type": "execute_result"
    }
   ],
   "source": [
    "torch.backends.mps.is_available()"
   ]
  },
  {
   "cell_type": "code",
   "execution_count": null,
   "id": "31de1874",
   "metadata": {},
   "outputs": [],
   "source": []
  }
 ],
 "metadata": {
  "kernelspec": {
   "display_name": ".venv",
   "language": "python",
   "name": "python3"
  },
  "language_info": {
   "codemirror_mode": {
    "name": "ipython",
    "version": 3
   },
   "file_extension": ".py",
   "mimetype": "text/x-python",
   "name": "python",
   "nbconvert_exporter": "python",
   "pygments_lexer": "ipython3",
   "version": "3.12.9"
  }
 },
 "nbformat": 4,
 "nbformat_minor": 5
}
