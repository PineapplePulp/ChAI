{
 "cells": [
  {
   "cell_type": "code",
   "execution_count": null,
   "metadata": {},
   "outputs": [],
   "source": [
    "%load_ext autoreload\n",
    "%autoreload 2\n",
    "\n",
    "import torch\n",
    "import chai\n",
    "\n",
    "import json\n",
    "import os\n",
    "\n",
    "import numpy as np"
   ]
  },
  {
   "cell_type": "code",
   "execution_count": null,
   "metadata": {},
   "outputs": [],
   "source": [
    "\n",
    "\n",
    "data = []\n",
    "for num_nodes_ in range(8):\n",
    "    num_nodes = 2 ** num_nodes_\n",
    "    print(num_nodes)\n",
    "    for num_images in [50,100,500,1000,5000,10000]:\n",
    "        with open(f'../server_timedata/ml_test_{num_nodes}_{num_images}.json') as f:\n",
    "            d = json.load(f)\n",
    "            median = np.median([float(i) for i in d['times']])\n",
    "            data_row = {\n",
    "                'num_nodes': d['num_nodes'],\n",
    "                'num_images': d['num_images'],\n",
    "                'time': float(d['num_images']) / float(d['avg']),\n",
    "                'stddev': float(d['num_images']) / d['stddev'],\n",
    "                'median': float(d['num_images']) / median\n",
    "            }\n",
    "            data.append(data_row)\n"
   ]
  },
  {
   "cell_type": "code",
   "execution_count": null,
   "metadata": {},
   "outputs": [],
   "source": [
    "import csv\n",
    "keys = data[0].keys()\n",
    "\n",
    "with open('time_data.csv','w') as f:\n",
    "    dict_writer = csv.DictWriter(f,keys)\n",
    "    dict_writer.writeheader()\n",
    "    dict_writer.writerows(data)"
   ]
  },
  {
   "cell_type": "code",
   "execution_count": null,
   "metadata": {},
   "outputs": [],
   "source": [
    "data[-1]"
   ]
  },
  {
   "cell_type": "code",
   "execution_count": null,
   "metadata": {},
   "outputs": [],
   "source": []
  }
 ],
 "metadata": {
  "kernelspec": {
   "display_name": ".venv",
   "language": "python",
   "name": "python3"
  },
  "language_info": {
   "codemirror_mode": {
    "name": "ipython",
    "version": 3
   },
   "file_extension": ".py",
   "mimetype": "text/x-python",
   "name": "python",
   "nbconvert_exporter": "python",
   "pygments_lexer": "ipython3",
   "version": "3.12.9"
  }
 },
 "nbformat": 4,
 "nbformat_minor": 2
}
